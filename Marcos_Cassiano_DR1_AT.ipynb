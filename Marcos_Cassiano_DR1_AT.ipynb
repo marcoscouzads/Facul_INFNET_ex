{
  "nbformat": 4,
  "nbformat_minor": 0,
  "metadata": {
    "colab": {
      "name": "Marcos_Cassiano_DR1_AT.ipynb",
      "provenance": [],
      "authorship_tag": "ABX9TyM4L332OZH6I6riFfYOlYKy",
      "include_colab_link": true
    },
    "kernelspec": {
      "name": "python3",
      "display_name": "Python 3"
    },
    "language_info": {
      "name": "python"
    }
  },
  "cells": [
    {
      "cell_type": "markdown",
      "metadata": {
        "id": "view-in-github",
        "colab_type": "text"
      },
      "source": [
        "<a href=\"https://colab.research.google.com/github/marcoscouzads/Facul_INFNET_ex/blob/main/Marcos_Cassiano_DR1_AT.ipynb\" target=\"_parent\"><img src=\"https://colab.research.google.com/assets/colab-badge.svg\" alt=\"Open In Colab\"/></a>"
      ]
    },
    {
      "cell_type": "markdown",
      "metadata": {
        "id": "hJl8ytFdVMa9"
      },
      "source": [
        "questão 3"
      ]
    },
    {
      "cell_type": "code",
      "metadata": {
        "id": "E6QFP2WsJ0iA",
        "colab": {
          "base_uri": "https://localhost:8080/"
        },
        "outputId": "1488f962-1f13-48c6-c6bd-da585444db13"
      },
      "source": [
        "def diagnosticar_limite(renda, lar, edu, mov):    \n",
        "  max_lar = renda * (30 / 100)\n",
        "  max_edu = renda * (20 / 100)\n",
        "  max_mov = renda * (15 / 100)\n",
        "    \n",
        "  porcentagem_lar = lar * 100 / renda\n",
        "  porcentagem_edu = edu * 100 / renda\n",
        "  porcentagem_mov = mov * 100 / renda   \n",
        "   \n",
        "  diagnostico = \"\"\n",
        "  comparar_lar = \"\"\n",
        "  comparar_edu = \"\"\n",
        "  comparar_mov = \"\"\n",
        "    \n",
        "    \n",
        "  if lar <= max_lar:\n",
        "      comparar_lar = \"seus gastos estão dentro da margem recomendada\"\n",
        "    \n",
        "  else:\n",
        "      comparar_lar = f\"Portanto, idealmente, o máximo de sua comprometida com moradia devereia ser de R$ {max_lar:.2f}\"\n",
        "    ###############################    \n",
        "    \n",
        "  if edu <= max_edu:\n",
        "      comparar_edu = \"seus gastos estão dentro da margem recomendada\"\n",
        "    \n",
        "  else:\n",
        "      comparar_edu = f\"Portanto, idealmente, o máximo de sua comprometida com moradia devereia ser de R$ {max_edu:.2f}\"\n",
        "    ################################\n",
        "    \n",
        "  if mov <= max_mov:\n",
        "      comparar_mov = \"seus gastos estão dentro da margem recomendada\"\n",
        "    \n",
        "  else:\n",
        "      comparar_mov = f\"Portanto, idealmente, o máximo de sua comprometida com moradia devereia ser de R$ {max_mov:.2f}\"\n",
        "    \n",
        "    \n",
        "  diagnostico += f\"Seus gastos totais com moradia comprometem {porcentagem_lar:.2f}% de sua renda total. O máximo recomendado é de 30%. {comparar_lar}.\\n\"\n",
        "  diagnostico += f\"Seus gastos totais com educação comprometem {porcentagem_edu:.2f}% de sua renda total. O máximo recomendado é de 20%. {comparar_edu}.\\n\"\n",
        "  diagnostico += f\"Seus gastos totais com transporte comprometem {porcentagem_mov:.2f}% de sua renda total. O máximo recomendado é de 15%. {comparar_mov}.\"\n",
        "    \n",
        "  print(diagnostico)\n",
        "\n",
        "renda = float(input(\"Digite sua renda mensal: R$ \")) \n",
        "lar = float(input(\"Digite seus gastos com moradia: R$ \"))     # max 30%\n",
        "edu = float(input(\"Digite seus gastos com educação: R$ \"))    # max 20%\n",
        "mov = float(input(\"Digite seus gastos com transporte: R$ \"))  # max 15%\n",
        "diagnosticar_limite(renda, lar, edu, mov) "
      ],
      "execution_count": 194,
      "outputs": [
        {
          "output_type": "stream",
          "text": [
            "Digite sua renda mensal: R$ 5000\n",
            "Digite seus gastos com moradia: R$ 1760\n",
            "Digite seus gastos com educação: R$ 800\n",
            "Digite seus gastos com transporte: R$ 300\n",
            "Seus gastos totais com moradia comprometem 35.20% de sua renda total. O máximo recomendado é de 30%. Portanto, idealmente, o máximo de sua comprometida com moradia devereia ser de R$ 1500.00.\n",
            "Seus gastos totais com educação comprometem 16.00% de sua renda total. O máximo recomendado é de 20%. seus gastos estão dentro da margem recomendada.\n",
            "Seus gastos totais com transporte comprometem 6.00% de sua renda total. O máximo recomendado é de 15%. seus gastos estão dentro da margem recomendada.\n"
          ],
          "name": "stdout"
        }
      ]
    },
    {
      "cell_type": "markdown",
      "metadata": {
        "id": "RVMP9kK2MAkS"
      },
      "source": [
        "questão 4"
      ]
    },
    {
      "cell_type": "code",
      "metadata": {
        "colab": {
          "base_uri": "https://localhost:8080/",
          "height": 567
        },
        "id": "ly8vZQn3KqQs",
        "outputId": "577fa4c0-bcf4-4e55-d4f5-1e136acb1988"
      },
      "source": [
        "import matplotlib.pyplot as plt\n",
        "\n",
        "def juros_compostos(valor_inicial, taxa, aporte, periodo):\n",
        "    juros = []\n",
        "    \n",
        "    for i in range (periodo):\n",
        "        valor_inicial = (valor_inicial + (valor_inicial * (taxa / 100))) + aporte\n",
        "        print(f\"\\t Após{i+1}º período(s), o montante será de R$ {valor_inicial:.2f}\")\n",
        "        juros.append(valor_inicial)\n",
        "        \n",
        "    plt.plot(juros)\n",
        "    plt.title(\"Rendimento estipulado\")\n",
        "    plt.xlabel(\"mêses\")\n",
        "    plt.ylabel(\"valores acumulados\")\n",
        "    plt.show()\n",
        "    \n",
        "valor_inicial = float(input(\"Digite valor inicial: R$ \"))\n",
        "taxa = float(input(\"Rendimento por período (%): \"))\n",
        "aporte  = float(input(\"Aporte a cada período: R$ \"))\n",
        "periodo = int(input(\"Total de períodos:  \"))\n",
        "juros_compostos(valor_inicial, taxa, aporte, periodo)"
      ],
      "execution_count": 172,
      "outputs": [
        {
          "output_type": "stream",
          "text": [
            "Digite valor inicial: R$ 10000\n",
            "Rendimento por período (%): 0.54\n",
            "Aporte a cada período: R$ 1000\n",
            "Total de períodos:  12\n",
            "\t Após1º período(s), o montante será de R$ 11054.00\n",
            "\t Após2º período(s), o montante será de R$ 12113.69\n",
            "\t Após3º período(s), o montante será de R$ 13179.11\n",
            "\t Após4º período(s), o montante será de R$ 14250.27\n",
            "\t Após5º período(s), o montante será de R$ 15327.22\n",
            "\t Após6º período(s), o montante será de R$ 16409.99\n",
            "\t Após7º período(s), o montante será de R$ 17498.61\n",
            "\t Após8º período(s), o montante será de R$ 18593.10\n",
            "\t Após9º período(s), o montante será de R$ 19693.50\n",
            "\t Após10º período(s), o montante será de R$ 20799.85\n",
            "\t Após11º período(s), o montante será de R$ 21912.16\n",
            "\t Após12º período(s), o montante será de R$ 23030.49\n"
          ],
          "name": "stdout"
        },
        {
          "output_type": "display_data",
          "data": {
            "image/png": "[encoded data removed]",
            "text/plain": [
              "<Figure size 432x288 with 1 Axes>"
            ]
          },
          "metadata": {
            "tags": [],
            "needs_background": "light"
          }
        }
      ]
    },
    {
      "cell_type": "markdown",
      "metadata": {
        "id": "pBlAa0n0L5ev"
      },
      "source": [
        "questão 5"
      ]
    },
    {
      "cell_type": "code",
      "metadata": {
        "id": "LfyPQ_dzSBZs"
      },
      "source": [
        "import pandas as pd\n",
        "import matplotlib.pyplot as plt\n",
        "df = pd.read_csv('pibs.csv') # usar o indice de paises\n",
        "df.set_index('País', inplace=True)"
      ],
      "execution_count": 184,
      "outputs": []
    },
    {
      "cell_type": "code",
      "metadata": {
        "colab": {
          "base_uri": "https://localhost:8080/"
        },
        "id": "TatWmjfNj-yn",
        "outputId": "06b61995-4bf5-4b6f-bee4-1796889fb6d5"
      },
      "source": [
        "pais = input(\"Informe um país \")\n",
        "if pais in df.index:\n",
        "  ano = input(\"Informe um ano entre 2013 e 2020: \")\n",
        "  if ano in df.columns:\n",
        "    print(f\"PIB {pais} em {ano}: US${df.loc[pais, ano]} trilhões.\")\n",
        "  else:\n",
        "    print(\"Ano não disponível\")\n",
        "else:\n",
        "  print(\"País não disponível\")"
      ],
      "execution_count": 188,
      "outputs": [
        {
          "output_type": "stream",
          "text": [
            "Informe um país Brasil\n",
            "Informe um ano entre 2013 e 2020: 2020\n",
            "PIB Brasil em 2020: US$2.35 trilhões.\n"
          ],
          "name": "stdout"
        }
      ]
    },
    {
      "cell_type": "code",
      "metadata": {
        "colab": {
          "base_uri": "https://localhost:8080/"
        },
        "id": "w-b845xCJXZf",
        "outputId": "8b0a6ea3-f4dc-4c67-d94b-d7940134d303"
      },
      "source": [
        "pais = input(\"Informe um país \")\n",
        "if pais in df.index:\n",
        "  variacao = (df.loc[pais, '2020'] / df.loc[pais, '2013'] -1) * 100\n",
        "  print(f\"Variação de {variacao:.2f}% entre 2013 e 2020\")\n",
        "else:\n",
        "  print(\"País não disponível\")\n"
      ],
      "execution_count": 189,
      "outputs": [
        {
          "output_type": "stream",
          "text": [
            "Informe um país EUA\n",
            "Variação de 34.13% entre 2013 e 2020\n"
          ],
          "name": "stdout"
        }
      ]
    },
    {
      "cell_type": "code",
      "metadata": {
        "colab": {
          "base_uri": "https://localhost:8080/",
          "height": 312
        },
        "id": "Vgy6g8KFP2rl",
        "outputId": "ad0627bf-f239-4007-f0ea-6db7e74e4f6a"
      },
      "source": [
        "pais = input(\"Informe um país \")\n",
        "if pais in df.index:\n",
        "  pib = df.loc[pais, : ]\n",
        "  plt.plot(pib)\n",
        "  plt.title(f\" PIB do {pais}. \")\n",
        "  plt.xlabel(\"Anos \")\n",
        "  plt.ylabel(\"Valores em trilhões US$ \")\n",
        "  plt.show()\n",
        "else:\n",
        "  print(\"País não disponível\")\n"
      ],
      "execution_count": 183,
      "outputs": [
        {
          "output_type": "stream",
          "text": [
            "Informe um país Brasil\n"
          ],
          "name": "stdout"
        },
        {
          "output_type": "display_data",
          "data": {
            "image/png": "[encoded data removed]",
            "text/plain": [
              "<Figure size 432x288 with 1 Axes>"
            ]
          },
          "metadata": {
            "tags": [],
            "needs_background": "light"
          }
        }
      ]
    }
  ]
}